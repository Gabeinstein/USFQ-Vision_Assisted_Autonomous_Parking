{
 "cells": [
  {
   "cell_type": "code",
   "execution_count": 24,
   "metadata": {},
   "outputs": [],
   "source": [
    "import torch\n",
    "from torchvision import transforms\n",
    "import torch.nn as nn\n",
    "import torch.optim as optim\n",
    "from torch.utils.data import TensorDataset, DataLoader\n",
    "import pandas as pd\n",
    "import numpy as np\n",
    "from sklearn.feature_selection import SelectKBest, mutual_info_classif\n",
    "from sklearn.preprocessing import StandardScaler\n",
    "from sklearn.model_selection import train_test_split\n",
    "import matplotlib.pyplot as plt"
   ]
  },
  {
   "cell_type": "code",
   "execution_count": 12,
   "metadata": {},
   "outputs": [],
   "source": [
    "class NeuralNetwork(nn.Module):\n",
    "    def __init__(self, input_dim):\n",
    "        super(NeuralNetwork, self).__init__()\n",
    "        self.fc1 = nn.Linear(input_dim, 120)\n",
    "        self.fc2 = nn.Linear(120, 64)\n",
    "        self.fc3 = nn.Linear(64, 4)\n",
    "\n",
    "    def forward(self, x):\n",
    "        x = torch.sigmoid(self.fc1(x))\n",
    "        x = torch.sigmoid(self.fc2(x))\n",
    "        x = self.fc3(x)\n",
    "\n",
    "        return x"
   ]
  },
  {
   "cell_type": "code",
   "execution_count": 5,
   "metadata": {},
   "outputs": [],
   "source": [
    "data = pd.read_csv('D:/Coding/Github/automatic_parking/vision_assisted_autonomous_parking/datasets/dataset_completo.csv')\n",
    "x = data.iloc[:, :719].values.astype(dtype=np.float32)\n",
    "y = data.iloc[:, 720].values.astype(dtype=np.int64) \n",
    "feature_index = list(range(0,719))\n",
    "X_train, X_test, y_train, y_test = train_test_split(x, y, test_size=0.2, random_state=42)"
   ]
  },
  {
   "cell_type": "code",
   "execution_count": 8,
   "metadata": {},
   "outputs": [],
   "source": [
    "scaler = StandardScaler()\n",
    "X_train_scaled = scaler.fit_transform(X_train)\n",
    "X_test_scaled = scaler.transform(X_test)\n",
    "\n",
    "select_k_best = SelectKBest(mutual_info_classif, k=100)\n",
    "X_train_k_best = select_k_best.fit_transform(X_train_scaled, y_train)\n",
    "X_test_k_best = select_k_best.transform(X_test_scaled)\n",
    "\n",
    "selected_features_indices = select_k_best.get_support(indices=True)\n",
    "\n",
    "np.savetxt('D:/Coding/Github/automatic_parking/vision_assisted_autonomous_parking/Pytorch/k_best_selected_features/selected_features.csv', selected_features_indices, delimiter=',', fmt='%d')"
   ]
  },
  {
   "cell_type": "code",
   "execution_count": 9,
   "metadata": {},
   "outputs": [],
   "source": [
    "device = torch.device(\"cuda\" if torch.cuda.is_available() else \"cpu\")\n",
    "\n",
    "xs_train = torch.tensor(X_train_k_best).view(-1, len(X_train_k_best[0])).to(device)\n",
    "ys_train = torch.tensor(y_train).to(device)\n",
    "xs_test = torch.tensor(X_test_k_best).view(-1, len(X_test_k_best[0])).to(device)\n",
    "ys_test = torch.tensor(y_test).to(device)"
   ]
  },
  {
   "cell_type": "code",
   "execution_count": 33,
   "metadata": {},
   "outputs": [],
   "source": [
    "mean = torch.mean(xs_train, dim=0)\n",
    "std_dev = torch.std(xs_train, dim=0)\n",
    "mean_broadcasted = mean.unsqueeze(0).expand_as(xs_train)\n",
    "std_dev_broadcasted = std_dev.unsqueeze(0).expand_as(xs_train)\n",
    "xs_train_z_score = (xs_train - mean_broadcasted) / std_dev_broadcasted\n",
    "mean_broadcasted = mean.unsqueeze(0).expand_as(xs_test)\n",
    "std_dev_broadcasted = std_dev.unsqueeze(0).expand_as(xs_test)\n",
    "xs_test_z_score = (xs_test - mean_broadcasted) / std_dev_broadcasted"
   ]
  },
  {
   "cell_type": "code",
   "execution_count": 10,
   "metadata": {},
   "outputs": [],
   "source": [
    "max_value = 12\n",
    "min_value = 0\n",
    "\n",
    "xs_train_min_max = (xs_train - min_value)/(max_value - min_value)\n",
    "xs_test_min_max = (xs_test - min_value)/(max_value - min_value)"
   ]
  },
  {
   "cell_type": "code",
   "execution_count": 20,
   "metadata": {},
   "outputs": [],
   "source": [
    "model = NeuralNetwork(len(xs_train_min_max[0]))\n",
    "model.to(device)\n",
    "\n",
    "criterion = nn.CrossEntropyLoss()\n",
    "optimizer = optim.Adam(model.parameters(), lr=0.001)\n",
    "\n",
    "batch_size = 500\n",
    "torch.manual_seed(42)\n",
    "dataset = TensorDataset(xs_train_min_max,ys_train)\n",
    "dataloader = DataLoader(dataset, batch_size=batch_size, shuffle=True)\n"
   ]
  },
  {
   "cell_type": "code",
   "execution_count": 21,
   "metadata": {},
   "outputs": [
    {
     "name": "stdout",
     "output_type": "stream",
     "text": [
      "Epoch [1/2000], Loss: 1.382838487625122\n",
      "Epoch [101/2000], Loss: 0.412960022687912\n",
      "Epoch [201/2000], Loss: 0.37563908100128174\n",
      "Epoch [301/2000], Loss: 0.3271750509738922\n",
      "Epoch [401/2000], Loss: 0.29007673263549805\n",
      "Epoch [501/2000], Loss: 0.3392976224422455\n",
      "Epoch [601/2000], Loss: 0.33383244276046753\n",
      "Epoch [701/2000], Loss: 0.390262246131897\n",
      "Epoch [801/2000], Loss: 0.33361637592315674\n",
      "Epoch [901/2000], Loss: 0.30296000838279724\n",
      "Epoch [1001/2000], Loss: 0.3671116530895233\n",
      "Epoch [1101/2000], Loss: 0.34814780950546265\n",
      "Epoch [1201/2000], Loss: 0.3406045734882355\n",
      "Epoch [1301/2000], Loss: 0.33836326003074646\n",
      "Epoch [1401/2000], Loss: 0.3539371192455292\n",
      "Epoch [1501/2000], Loss: 0.34898024797439575\n",
      "Epoch [1601/2000], Loss: 0.3737637400627136\n",
      "Epoch [1701/2000], Loss: 0.3357873857021332\n",
      "Epoch [1801/2000], Loss: 0.3225648105144501\n",
      "Epoch [1901/2000], Loss: 0.3353516459465027\n",
      "Training finished.\n"
     ]
    }
   ],
   "source": [
    "# Train the model\n",
    "num_epochs = 2000\n",
    "loss_per_epoch = []\n",
    "for epoch in range(num_epochs):\n",
    "    for batch_idx, (xs_batch, ys_batch) in enumerate(dataloader):\n",
    "        outputs = model(xs_batch)\n",
    "        loss = criterion(outputs, ys_batch)\n",
    "\n",
    "        optimizer.zero_grad()\n",
    "        loss.backward()\n",
    "        optimizer.step()\n",
    "\n",
    "    if(epoch % 100 == 0):\n",
    "        print(f'Epoch [{epoch+1}/{num_epochs}], Loss: {loss.item()}')\n",
    "        loss_per_epoch.append(loss.item())\n",
    "\n",
    "print('Training finished.')"
   ]
  },
  {
   "cell_type": "code",
   "execution_count": 22,
   "metadata": {},
   "outputs": [
    {
     "name": "stdout",
     "output_type": "stream",
     "text": [
      "Loss: 0.28026777505874634\n",
      "Accuracy: 0.6801204819277108\n"
     ]
    }
   ],
   "source": [
    "with torch.no_grad():\n",
    "    outputs = model(xs_test_min_max)\n",
    "# Metrics calculation (optional)\n",
    "_, predicted = torch.max(outputs, 1)\n",
    "accuracy = (predicted == ys_test).sum().item() / ys_test.size(0)\n",
    "# Calculate other metrics as needed\n",
    "\n",
    "print(f\"Loss: {loss.item()}\")\n",
    "print(f\"Accuracy: {accuracy}\")"
   ]
  },
  {
   "cell_type": "code",
   "execution_count": 26,
   "metadata": {},
   "outputs": [
    {
     "data": {
      "image/png": "[encoded data removed]",
      "text/plain": [
       "<Figure size 640x480 with 1 Axes>"
      ]
     },
     "metadata": {},
     "output_type": "display_data"
    }
   ],
   "source": [
    "plt.plot(range(0,2000,100), loss_per_epoch, label='Training Loss')\n",
    "plt.title('Training Loss vs. Epoch')\n",
    "plt.xlabel('Epoch')\n",
    "plt.ylabel('Loss')\n",
    "plt.grid()\n",
    "plt.legend()\n",
    "plt.show()"
   ]
  },
  {
   "cell_type": "code",
   "execution_count": 28,
   "metadata": {},
   "outputs": [
    {
     "name": "stdout",
     "output_type": "stream",
     "text": [
      "Input Feature: tensor([-0.0526, -0.0584, -0.0561, -0.0421, -0.0412, -0.0356, -0.0430, -0.0466,\n",
      "        -0.0519, -0.0546, -0.0547, -0.0538, -0.0574, -0.0593, -0.0586, -0.0592,\n",
      "        -0.0666, -0.0679, -0.0635, -0.0617, -0.0585, -0.0600, -0.0546, -0.0647,\n",
      "        -0.0656, -0.0635, -0.0634, -0.0714, -0.0714, -0.0714, -0.0723, -0.0813,\n",
      "        -0.0698, -0.0799, -0.0785, -0.0957, -0.0932, -0.0801, -0.0546,  0.0619,\n",
      "         0.0581,  0.0573,  0.0574,  0.0568,  0.0577,  0.0576,  0.0575,  0.0544,\n",
      "         0.0543,  0.0615,  0.0629,  0.0601,  0.0559,  0.0546,  0.0492,  0.0456,\n",
      "         0.0461,  0.0468,  0.0469,  0.0475,  0.0467,  0.0479,  0.0489,  0.0483,\n",
      "         0.0442,  0.0411,  0.0414,  0.0432,  0.0444,  0.0454,  0.0451,  0.0481,\n",
      "         0.0478,  0.0488,  0.0515,  0.0542,  0.0581,  0.0587,  0.0600,  0.0035,\n",
      "         0.0067,  0.0019, -0.0083, -0.0092, -0.0146, -0.0197, -0.0230, -0.0305,\n",
      "        -0.0352, -0.0372, -0.0455, -0.0539, -0.0559, -0.0549, -0.0546, -0.0576,\n",
      "        -0.0623, -0.0604, -0.0573, -0.0570])\n",
      "Expected Value: tensor(2)\n",
      "Model Output: tensor([  3.5536, -16.7690,   3.6268, -32.2895])\n",
      "Model Prediction: tensor(2)\n"
     ]
    },
    {
     "name": "stderr",
     "output_type": "stream",
     "text": [
      "C:\\Users\\gsoch\\AppData\\Local\\Temp\\ipykernel_6960\\3084701899.py:3: UserWarning: To copy construct from a tensor, it is recommended to use sourceTensor.clone().detach() or sourceTensor.clone().detach().requires_grad_(True), rather than torch.tensor(sourceTensor).\n",
      "  predicted_value = model(torch.tensor(xs_test_min_max[0]).to(device))\n"
     ]
    }
   ],
   "source": [
    "model.eval()\n",
    "with torch.no_grad():\n",
    "    predicted_value = model(torch.tensor(xs_test_min_max[0]).to(device))\n",
    "print(\"Input Feature: \" + str(xs_test_min_max[0]))\n",
    "print(\"Expected Value: \" + str(ys_test[0]))\n",
    "print(\"Model Output: \" + str(predicted_value))\n",
    "print(\"Model Prediction: \" + str(torch.argmax(predicted_value)))"
   ]
  },
  {
   "cell_type": "code",
   "execution_count": 30,
   "metadata": {},
   "outputs": [],
   "source": [
    "torch.save(model.state_dict(), 'D:/Coding/Github/automatic_parking/vision_assisted_autonomous_parking/Pytorch/model/model_final.pth')"
   ]
  },
  {
   "cell_type": "code",
   "execution_count": 21,
   "metadata": {},
   "outputs": [
    {
     "data": {
      "text/plain": [
       "NeuralNetwork(\n",
       "  (fc1): Linear(in_features=10, out_features=120, bias=True)\n",
       "  (fc2): Linear(in_features=120, out_features=64, bias=True)\n",
       "  (fc3): Linear(in_features=64, out_features=3, bias=True)\n",
       ")"
      ]
     },
     "execution_count": 21,
     "metadata": {},
     "output_type": "execute_result"
    }
   ],
   "source": [
    "model = NeuralNetwork(len(xs_train_z_score[0]))\n",
    "model.load_state_dict(torch.load('datasets/model1.pth'))\n",
    "model.eval()"
   ]
  },
  {
   "cell_type": "code",
   "execution_count": 24,
   "metadata": {},
   "outputs": [
    {
     "name": "stdout",
     "output_type": "stream",
     "text": [
      "Input Feature: tensor([-1.0493, -1.2094, -1.3192, -1.3859, -1.0902, -1.0788, -1.5170, -1.0826,\n",
      "        -1.0960, -0.9731])\n",
      "Expected Value: tensor(1)\n",
      "Model Prediction: tensor(1)\n"
     ]
    },
    {
     "name": "stderr",
     "output_type": "stream",
     "text": [
      "C:\\Users\\gsoch\\AppData\\Local\\Temp\\ipykernel_7860\\1364314063.py:2: UserWarning: To copy construct from a tensor, it is recommended to use sourceTensor.clone().detach() or sourceTensor.clone().detach().requires_grad_(True), rather than torch.tensor(sourceTensor).\n",
      "  predicted_value = model(torch.tensor(xs_test[400]).to(device))\n"
     ]
    }
   ],
   "source": [
    "with torch.no_grad():\n",
    "    predicted_value = model(torch.tensor(xs_test[400]).to(device))\n",
    "print(\"Input Feature: \" + str(xs_test[400]))\n",
    "print(\"Expected Value: \" + str(ys_test[400]))\n",
    "print(\"Model Prediction: \" + str(torch.argmax(predicted_value)))"
   ]
  }
 ],
 "metadata": {
  "kernelspec": {
   "display_name": "Python 3",
   "language": "python",
   "name": "python3"
  },
  "language_info": {
   "codemirror_mode": {
    "name": "ipython",
    "version": 3
   },
   "file_extension": ".py",
   "mimetype": "text/x-python",
   "name": "python",
   "nbconvert_exporter": "python",
   "pygments_lexer": "ipython3",
   "version": "3.10.11"
  }
 },
 "nbformat": 4,
 "nbformat_minor": 2
}
