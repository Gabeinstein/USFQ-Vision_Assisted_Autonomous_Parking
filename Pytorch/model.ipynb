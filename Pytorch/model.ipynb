{
 "cells": [
  {
   "cell_type": "code",
   "execution_count": 28,
   "metadata": {},
   "outputs": [],
   "source": [
    "import torch\n",
    "from torchvision import transforms\n",
    "import torch.nn as nn\n",
    "import torch.optim as optim\n",
    "from torch.utils.data import TensorDataset, DataLoader\n",
    "import pandas as pd\n",
    "import numpy as np\n",
    "from sklearn.feature_selection import SelectKBest, mutual_info_classif\n",
    "from sklearn.preprocessing import StandardScaler\n",
    "from sklearn.model_selection import train_test_split"
   ]
  },
  {
   "cell_type": "code",
   "execution_count": 29,
   "metadata": {},
   "outputs": [],
   "source": [
    "class NeuralNetwork(nn.Module):\n",
    "    def __init__(self, input_dim):\n",
    "        super(NeuralNetwork, self).__init__()\n",
    "        self.fc1 = nn.Linear(input_dim, 120)\n",
    "        self.fc2 = nn.Linear(120, 64)\n",
    "        self.fc3 = nn.Linear(64, 3)\n",
    "\n",
    "    def forward(self, x):\n",
    "        x = torch.sigmoid(self.fc1(x))\n",
    "        x = torch.sigmoid(self.fc2(x))\n",
    "        x = self.fc3(x)\n",
    "\n",
    "        return x"
   ]
  },
  {
   "cell_type": "code",
   "execution_count": 30,
   "metadata": {},
   "outputs": [],
   "source": [
    "data = pd.read_csv('datasets/dataset_completo.csv')\n",
    "x = data.iloc[:, :719].values.astype(dtype=np.float32)\n",
    "y = data.iloc[:, 720].values.astype(dtype=np.int64) \n",
    "feature_index = list(range(0,719))\n",
    "X_train, X_test, y_train, y_test = train_test_split(x, y, test_size=0.2, random_state=42)"
   ]
  },
  {
   "cell_type": "code",
   "execution_count": 38,
   "metadata": {},
   "outputs": [
    {
     "name": "stdout",
     "output_type": "stream",
     "text": [
      "[586, 591, 592, 593, 622, 623, 624, 625, 627, 630]\n"
     ]
    }
   ],
   "source": [
    "scaler = StandardScaler()\n",
    "X_train_scaled = scaler.fit_transform(X_train)\n",
    "X_test_scaled = scaler.transform(X_test)\n",
    "\n",
    "select_k_best = SelectKBest(mutual_info_classif, k=10)\n",
    "X_train_k_best = select_k_best.fit_transform(X_train_scaled, y_train)\n",
    "X_test_k_best = select_k_best.transform(X_test_scaled)\n",
    "\n",
    "selected_features_indices = select_k_best.get_support(indices=True)\n",
    "\n",
    "np.savetxt('datasets/selected_features.csv', selected_features_indices, delimiter=',', fmt='%d')"
   ]
  },
  {
   "cell_type": "code",
   "execution_count": 32,
   "metadata": {},
   "outputs": [],
   "source": [
    "device = torch.device(\"cuda\" if torch.cuda.is_available() else \"cpu\")\n",
    "\n",
    "xs_train = torch.tensor(X_train_k_best).view(-1, len(X_train_k_best[0])).to(device)\n",
    "ys_train = torch.tensor(y_train).to(device)\n",
    "xs_test = torch.tensor(X_test_k_best).view(-1, len(X_test_k_best[0])).to(device)\n",
    "ys_test = torch.tensor(y_test).to(device)"
   ]
  },
  {
   "cell_type": "code",
   "execution_count": 33,
   "metadata": {},
   "outputs": [],
   "source": [
    "mean = torch.mean(xs_train, dim=0)\n",
    "std_dev = torch.std(xs_train, dim=0)\n",
    "mean_broadcasted = mean.unsqueeze(0).expand_as(xs_train)\n",
    "std_dev_broadcasted = std_dev.unsqueeze(0).expand_as(xs_train)\n",
    "xs_train_z_score = (xs_train - mean_broadcasted) / std_dev_broadcasted\n",
    "mean_broadcasted = mean.unsqueeze(0).expand_as(xs_test)\n",
    "std_dev_broadcasted = std_dev.unsqueeze(0).expand_as(xs_test)\n",
    "xs_test_z_score = (xs_test - mean_broadcasted) / std_dev_broadcasted"
   ]
  },
  {
   "cell_type": "code",
   "execution_count": null,
   "metadata": {},
   "outputs": [],
   "source": [
    "max_value = 12\n",
    "min_value = 0\n",
    "\n",
    "xs_train_min_max = (xs_train - min_value)/(max_value - min_value)\n",
    "xs_test_min_max = (xs_test - min_value)/(max_value - min_value)"
   ]
  },
  {
   "cell_type": "code",
   "execution_count": 34,
   "metadata": {},
   "outputs": [
    {
     "name": "stdout",
     "output_type": "stream",
     "text": [
      "Epoch [1/2000], Loss: 0.2691667973995209\n",
      "Epoch [101/2000], Loss: 8.246210200013593e-05\n",
      "Epoch [201/2000], Loss: 2.5873947379295714e-05\n",
      "Epoch [301/2000], Loss: 1.4322539755085018e-05\n",
      "Epoch [401/2000], Loss: 6.882438810862368e-06\n",
      "Epoch [501/2000], Loss: 1.3443061561702052e-06\n",
      "Epoch [601/2000], Loss: 4.73165812309162e-07\n",
      "Epoch [701/2000], Loss: 2.0631994175346335e-06\n",
      "Epoch [801/2000], Loss: 1.6139081537858146e-07\n",
      "Epoch [901/2000], Loss: 1.1737520111410049e-07\n",
      "Epoch [1001/2000], Loss: 7.335955842791009e-09\n",
      "Epoch [1101/2000], Loss: 2.384184938364342e-08\n",
      "Epoch [1201/2000], Loss: 1.8339889606977522e-09\n",
      "Epoch [1301/2000], Loss: 0.0\n",
      "Epoch [1401/2000], Loss: 0.0\n",
      "Epoch [1501/2000], Loss: 0.0\n",
      "Epoch [1601/2000], Loss: 0.0\n",
      "Epoch [1701/2000], Loss: 0.0\n",
      "Epoch [1801/2000], Loss: 0.0\n",
      "Epoch [1901/2000], Loss: 0.0\n",
      "Training finished.\n"
     ]
    }
   ],
   "source": [
    "model = NeuralNetwork(len(xs_train_z_score[0]))\n",
    "model.to(device)\n",
    "\n",
    "criterion = nn.CrossEntropyLoss()\n",
    "optimizer = optim.Adam(model.parameters(), lr=0.01)\n",
    "\n",
    "batch_size = 100\n",
    "torch.manual_seed(42)\n",
    "dataset = TensorDataset(xs_train_z_score,ys_train)\n",
    "dataloader = DataLoader(dataset, batch_size=batch_size, shuffle=True)\n",
    "\n",
    "# Train the model\n",
    "num_epochs = 2000\n",
    "for epoch in range(num_epochs):\n",
    "    for batch_idx, (xs_batch, ys_batch) in enumerate(dataloader):\n",
    "        outputs = model(xs_batch)\n",
    "        loss = criterion(outputs, ys_batch)\n",
    "\n",
    "        optimizer.zero_grad()\n",
    "        loss.backward()\n",
    "        optimizer.step()\n",
    "\n",
    "    if(epoch % 100 == 0):\n",
    "        print(f'Epoch [{epoch+1}/{num_epochs}], Loss: {loss.item()}')\n",
    "\n",
    "print('Training finished.')\n"
   ]
  },
  {
   "cell_type": "code",
   "execution_count": 35,
   "metadata": {},
   "outputs": [
    {
     "name": "stdout",
     "output_type": "stream",
     "text": [
      "Loss: 0.0\n",
      "Accuracy: 0.9976019184652278\n"
     ]
    }
   ],
   "source": [
    "with torch.no_grad():\n",
    "    outputs = model(xs_test_z_score)\n",
    "# Metrics calculation (optional)\n",
    "_, predicted = torch.max(outputs, 1)\n",
    "accuracy = (predicted == ys_test).sum().item() / ys_test.size(0)\n",
    "# Calculate other metrics as needed\n",
    "\n",
    "print(f\"Loss: {loss.item()}\")\n",
    "print(f\"Accuracy: {accuracy}\")"
   ]
  },
  {
   "cell_type": "code",
   "execution_count": 37,
   "metadata": {},
   "outputs": [
    {
     "name": "stdout",
     "output_type": "stream",
     "text": [
      "Input Feature: tensor([-0.7100, -1.9577, -1.1945, -1.1721, -0.9902, -0.9851, -0.9834, -0.9904,\n",
      "        -1.0226, -1.1123])\n",
      "Expected Value: tensor(1)\n",
      "Model Output: tensor([-40.9136,  -4.0822, -32.6478])\n",
      "Model Prediction: tensor(1)\n"
     ]
    },
    {
     "name": "stderr",
     "output_type": "stream",
     "text": [
      "C:\\Users\\gsoch\\AppData\\Local\\Temp\\ipykernel_7860\\2318861247.py:3: UserWarning: To copy construct from a tensor, it is recommended to use sourceTensor.clone().detach() or sourceTensor.clone().detach().requires_grad_(True), rather than torch.tensor(sourceTensor).\n",
      "  predicted_value = model(torch.tensor(xs_test[0]).to(device))\n"
     ]
    }
   ],
   "source": [
    "model.eval()\n",
    "with torch.no_grad():\n",
    "    predicted_value = model(torch.tensor(xs_test[0]).to(device))\n",
    "print(\"Input Feature: \" + str(xs_test[0]))\n",
    "print(\"Expected Value: \" + str(ys_test[0]))\n",
    "print(\"Model Output: \" + str(predicted_value))\n",
    "print(\"Model Prediction: \" + str(torch.argmax(predicted_value)))"
   ]
  },
  {
   "cell_type": "code",
   "execution_count": 20,
   "metadata": {},
   "outputs": [],
   "source": [
    "torch.save(model.state_dict(), 'datasets/model1.pth')"
   ]
  },
  {
   "cell_type": "code",
   "execution_count": 21,
   "metadata": {},
   "outputs": [
    {
     "data": {
      "text/plain": [
       "NeuralNetwork(\n",
       "  (fc1): Linear(in_features=10, out_features=120, bias=True)\n",
       "  (fc2): Linear(in_features=120, out_features=64, bias=True)\n",
       "  (fc3): Linear(in_features=64, out_features=3, bias=True)\n",
       ")"
      ]
     },
     "execution_count": 21,
     "metadata": {},
     "output_type": "execute_result"
    }
   ],
   "source": [
    "model = NeuralNetwork(len(xs_train_z_score[0]))\n",
    "model.load_state_dict(torch.load('datasets/model1.pth'))\n",
    "model.eval()"
   ]
  },
  {
   "cell_type": "code",
   "execution_count": 24,
   "metadata": {},
   "outputs": [
    {
     "name": "stdout",
     "output_type": "stream",
     "text": [
      "Input Feature: tensor([-1.0493, -1.2094, -1.3192, -1.3859, -1.0902, -1.0788, -1.5170, -1.0826,\n",
      "        -1.0960, -0.9731])\n",
      "Expected Value: tensor(1)\n",
      "Model Prediction: tensor(1)\n"
     ]
    },
    {
     "name": "stderr",
     "output_type": "stream",
     "text": [
      "C:\\Users\\gsoch\\AppData\\Local\\Temp\\ipykernel_7860\\1364314063.py:2: UserWarning: To copy construct from a tensor, it is recommended to use sourceTensor.clone().detach() or sourceTensor.clone().detach().requires_grad_(True), rather than torch.tensor(sourceTensor).\n",
      "  predicted_value = model(torch.tensor(xs_test[400]).to(device))\n"
     ]
    }
   ],
   "source": [
    "with torch.no_grad():\n",
    "    predicted_value = model(torch.tensor(xs_test[400]).to(device))\n",
    "print(\"Input Feature: \" + str(xs_test[400]))\n",
    "print(\"Expected Value: \" + str(ys_test[400]))\n",
    "print(\"Model Prediction: \" + str(torch.argmax(predicted_value)))"
   ]
  }
 ],
 "metadata": {
  "kernelspec": {
   "display_name": "Python 3",
   "language": "python",
   "name": "python3"
  },
  "language_info": {
   "codemirror_mode": {
    "name": "ipython",
    "version": 3
   },
   "file_extension": ".py",
   "mimetype": "text/x-python",
   "name": "python",
   "nbconvert_exporter": "python",
   "pygments_lexer": "ipython3",
   "version": "3.10.11"
  }
 },
 "nbformat": 4,
 "nbformat_minor": 2
}
