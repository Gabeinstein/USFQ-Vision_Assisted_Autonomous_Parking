{
 "cells": [
  {
   "cell_type": "code",
   "execution_count": 4,
   "metadata": {},
   "outputs": [
    {
     "name": "stderr",
     "output_type": "stream",
     "text": [
      "c:\\Users\\gsoch\\AppData\\Local\\Programs\\Python\\Python310\\lib\\site-packages\\tqdm\\auto.py:21: TqdmWarning: IProgress not found. Please update jupyter and ipywidgets. See https://ipywidgets.readthedocs.io/en/stable/user_install.html\n",
      "  from .autonotebook import tqdm as notebook_tqdm\n",
      "c:\\Users\\gsoch\\AppData\\Local\\Programs\\Python\\Python310\\lib\\site-packages\\transformers\\utils\\generic.py:441: UserWarning: torch.utils._pytree._register_pytree_node is deprecated. Please use torch.utils._pytree.register_pytree_node instead.\n",
      "  _torch_pytree._register_pytree_node(\n"
     ]
    }
   ],
   "source": [
    "import torch\n",
    "from torchvision import transforms\n",
    "import torch.nn as nn\n",
    "import torch.optim as optim\n",
    "from torch.utils.data import TensorDataset, DataLoader\n",
    "import pandas as pd\n",
    "import numpy as np\n",
    "from sklearn.feature_selection import SelectKBest, mutual_info_classif\n",
    "from sklearn.preprocessing import StandardScaler\n",
    "from sklearn.model_selection import train_test_split\n",
    "import matplotlib.pyplot as plt"
   ]
  },
  {
   "cell_type": "code",
   "execution_count": 70,
   "metadata": {},
   "outputs": [],
   "source": [
    "class NeuralNetwork(nn.Module):\n",
    "    def __init__(self, input_dim):\n",
    "        super(NeuralNetwork, self).__init__()\n",
    "        self.fc1 = nn.Linear(input_dim, 1024)\n",
    "        self.fc2 = nn.Linear(1024, 512)\n",
    "        self.fc3 = nn.Linear(512, 120)\n",
    "        self.fc4 = nn.Linear(120, 64)\n",
    "        self.fc5 = nn.Linear(64, 4)\n",
    "\n",
    "\n",
    "\n",
    "    def forward(self, x):\n",
    "        x = torch.sigmoid(self.fc1(x))\n",
    "        x = torch.sigmoid(self.fc2(x))\n",
    "        x = torch.sigmoid(self.fc3(x))\n",
    "        x = torch.sigmoid(self.fc4(x))\n",
    "        x = self.fc5(x)\n",
    "\n",
    "        return x"
   ]
  },
  {
   "cell_type": "code",
   "execution_count": 71,
   "metadata": {},
   "outputs": [],
   "source": [
    "data = pd.read_csv('D:/Coding/Github/automatic_parking/vision_assisted_autonomous_parking/datasets/dataset_completo.csv')\n",
    "x = data.iloc[:, :719].values.astype(dtype=np.float32)\n",
    "y = data.iloc[:, 720].values.astype(dtype=np.int64) \n",
    "feature_index = list(range(0,719))\n",
    "X_train, X_test, y_train, y_test = train_test_split(x, y, test_size=0.2, random_state=42)"
   ]
  },
  {
   "cell_type": "code",
   "execution_count": 72,
   "metadata": {},
   "outputs": [],
   "source": [
    "scaler = StandardScaler()\n",
    "X_train_scaled = scaler.fit_transform(X_train)\n",
    "X_test_scaled = scaler.transform(X_test)\n",
    "\n",
    "select_k_best = SelectKBest(mutual_info_classif, k=719)\n",
    "X_train_k_best = select_k_best.fit_transform(X_train_scaled, y_train)\n",
    "X_test_k_best = select_k_best.transform(X_test_scaled)\n",
    "\n",
    "selected_features_indices = select_k_best.get_support(indices=True)\n",
    "\n",
    "np.savetxt('D:/Coding/Github/automatic_parking/vision_assisted_autonomous_parking/Pytorch/k_best_selected_features/selected_features.csv', selected_features_indices, delimiter=',', fmt='%d')"
   ]
  },
  {
   "cell_type": "code",
   "execution_count": 73,
   "metadata": {},
   "outputs": [],
   "source": [
    "device = torch.device(\"cuda\" if torch.cuda.is_available() else \"cpu\")\n",
    "\n",
    "xs_train = torch.tensor(X_train_k_best).view(-1, len(X_train_k_best[0])).to(device)\n",
    "ys_train = torch.tensor(y_train).to(device)\n",
    "xs_test = torch.tensor(X_test_k_best).view(-1, len(X_test_k_best[0])).to(device)\n",
    "ys_test = torch.tensor(y_test).to(device)"
   ]
  },
  {
   "cell_type": "code",
   "execution_count": 74,
   "metadata": {},
   "outputs": [],
   "source": [
    "mean = torch.mean(xs_train, dim=0)\n",
    "std_dev = torch.std(xs_train, dim=0)\n",
    "mean_broadcasted = mean.unsqueeze(0).expand_as(xs_train)\n",
    "std_dev_broadcasted = std_dev.unsqueeze(0).expand_as(xs_train)\n",
    "xs_train_z_score = (xs_train - mean_broadcasted) / std_dev_broadcasted\n",
    "mean_broadcasted = mean.unsqueeze(0).expand_as(xs_test)\n",
    "std_dev_broadcasted = std_dev.unsqueeze(0).expand_as(xs_test)\n",
    "xs_test_z_score = (xs_test - mean_broadcasted) / std_dev_broadcasted"
   ]
  },
  {
   "cell_type": "code",
   "execution_count": 75,
   "metadata": {},
   "outputs": [],
   "source": [
    "max_value = 12          #Ver\n",
    "min_value = 0\n",
    "\n",
    "xs_train_min_max = (xs_train - min_value)/(max_value - min_value)\n",
    "xs_test_min_max = (xs_test - min_value)/(max_value - min_value)"
   ]
  },
  {
   "cell_type": "code",
   "execution_count": 76,
   "metadata": {},
   "outputs": [
    {
     "data": {
      "text/plain": [
       "NeuralNetwork(\n",
       "  (fc1): Linear(in_features=719, out_features=1024, bias=True)\n",
       "  (fc2): Linear(in_features=1024, out_features=512, bias=True)\n",
       "  (fc3): Linear(in_features=512, out_features=120, bias=True)\n",
       "  (fc4): Linear(in_features=120, out_features=64, bias=True)\n",
       "  (fc5): Linear(in_features=64, out_features=4, bias=True)\n",
       ")"
      ]
     },
     "execution_count": 76,
     "metadata": {},
     "output_type": "execute_result"
    }
   ],
   "source": [
    "model = NeuralNetwork(len(xs_train_min_max[0]))\n",
    "model.to(device)"
   ]
  },
  {
   "cell_type": "code",
   "execution_count": 77,
   "metadata": {},
   "outputs": [],
   "source": [
    "criterion = nn.CrossEntropyLoss()\n",
    "optimizer = optim.Adam(model.parameters(), lr=0.001)\n",
    "\n",
    "batch_size = 500\n",
    "torch.manual_seed(42)\n",
    "dataset = TensorDataset(xs_train_min_max,ys_train)\n",
    "dataloader = DataLoader(dataset, batch_size=batch_size, shuffle=True)\n"
   ]
  },
  {
   "cell_type": "code",
   "execution_count": 78,
   "metadata": {},
   "outputs": [
    {
     "name": "stdout",
     "output_type": "stream",
     "text": [
      "Epoch [1/5000], Loss: 1.3959357738494873\n",
      "Epoch [101/5000], Loss: 0.3122718036174774\n",
      "Epoch [201/5000], Loss: 0.35536083579063416\n",
      "Epoch [301/5000], Loss: 0.32277393341064453\n",
      "Epoch [401/5000], Loss: 0.28875017166137695\n",
      "Epoch [501/5000], Loss: 0.32883819937705994\n",
      "Epoch [601/5000], Loss: 0.3345588445663452\n",
      "Epoch [701/5000], Loss: 0.38724347949028015\n",
      "Epoch [801/5000], Loss: 0.32834333181381226\n",
      "Epoch [901/5000], Loss: 0.29929500818252563\n",
      "Epoch [1001/5000], Loss: 0.372349351644516\n",
      "Epoch [1101/5000], Loss: 0.3248198330402374\n",
      "Epoch [1201/5000], Loss: 0.3198944330215454\n",
      "Epoch [1301/5000], Loss: 0.32893285155296326\n",
      "Epoch [1401/5000], Loss: 0.3504171371459961\n",
      "Epoch [1501/5000], Loss: 0.31326958537101746\n",
      "Epoch [1601/5000], Loss: 0.32078808546066284\n",
      "Epoch [1701/5000], Loss: 0.3247743844985962\n",
      "Epoch [1801/5000], Loss: 0.29374319314956665\n",
      "Epoch [1901/5000], Loss: 0.2640950679779053\n",
      "Epoch [2001/5000], Loss: 0.35220107436180115\n",
      "Epoch [2101/5000], Loss: 0.2798774838447571\n",
      "Epoch [2201/5000], Loss: 0.3315919041633606\n",
      "Epoch [2301/5000], Loss: 0.3401857614517212\n",
      "Epoch [2401/5000], Loss: 0.29777050018310547\n",
      "Epoch [2501/5000], Loss: 0.2949399948120117\n",
      "Epoch [2601/5000], Loss: 0.27778905630111694\n",
      "Epoch [2701/5000], Loss: 0.2738833725452423\n",
      "Epoch [2801/5000], Loss: 0.31836363673210144\n",
      "Epoch [2901/5000], Loss: 0.3077707588672638\n",
      "Epoch [3001/5000], Loss: 0.24396838247776031\n",
      "Epoch [3101/5000], Loss: 0.2998766005039215\n",
      "Epoch [3201/5000], Loss: 0.2976245880126953\n",
      "Epoch [3301/5000], Loss: 0.2482038140296936\n",
      "Epoch [3401/5000], Loss: 0.3232886791229248\n",
      "Epoch [3501/5000], Loss: 0.28357481956481934\n",
      "Epoch [3601/5000], Loss: 0.2231161743402481\n",
      "Epoch [3701/5000], Loss: 0.32683244347572327\n",
      "Epoch [3801/5000], Loss: 0.27379611134529114\n",
      "Epoch [3901/5000], Loss: 0.3339705467224121\n",
      "Epoch [4001/5000], Loss: 0.31114861369132996\n",
      "Epoch [4101/5000], Loss: 0.24132899940013885\n",
      "Epoch [4201/5000], Loss: 0.2595639228820801\n",
      "Epoch [4301/5000], Loss: 0.2459428608417511\n",
      "Epoch [4401/5000], Loss: 0.24890322983264923\n",
      "Epoch [4501/5000], Loss: 0.23323501646518707\n",
      "Epoch [4601/5000], Loss: 0.21875913441181183\n",
      "Epoch [4701/5000], Loss: 0.27959564328193665\n",
      "Epoch [4801/5000], Loss: 0.22535571455955505\n",
      "Epoch [4901/5000], Loss: 0.293785035610199\n",
      "Training finished.\n"
     ]
    }
   ],
   "source": [
    "# Train the model\n",
    "num_epochs = 5000\n",
    "loss_per_epoch = []\n",
    "for epoch in range(num_epochs):\n",
    "    for batch_idx, (xs_batch, ys_batch) in enumerate(dataloader):\n",
    "        outputs = model(xs_batch)\n",
    "        loss = criterion(outputs, ys_batch)\n",
    "\n",
    "        optimizer.zero_grad()\n",
    "        loss.backward()\n",
    "        optimizer.step()\n",
    "\n",
    "    if(epoch % 100 == 0):\n",
    "        print(f'Epoch [{epoch+1}/{num_epochs}], Loss: {loss.item()}')\n",
    "        loss_per_epoch.append(loss.item())\n",
    "\n",
    "print('Training finished.')"
   ]
  },
  {
   "cell_type": "code",
   "execution_count": 79,
   "metadata": {},
   "outputs": [
    {
     "name": "stdout",
     "output_type": "stream",
     "text": [
      "Loss: 0.3197258710861206\n",
      "Accuracy: 0.5481927710843374\n"
     ]
    }
   ],
   "source": [
    "with torch.no_grad():\n",
    "    outputs = model(xs_test_min_max)\n",
    "# Metrics calculation (optional)\n",
    "_, predicted = torch.max(outputs, 1)\n",
    "accuracy = (predicted == ys_test).sum().item() / ys_test.size(0)\n",
    "# Calculate other metrics as needed\n",
    "\n",
    "print(f\"Loss: {loss.item()}\")\n",
    "print(f\"Accuracy: {accuracy}\")"
   ]
  },
  {
   "cell_type": "code",
   "execution_count": 46,
   "metadata": {},
   "outputs": [
    {
     "data": {
      "image/png": "[encoded data removed]",
      "text/plain": [
       "<Figure size 640x480 with 1 Axes>"
      ]
     },
     "metadata": {},
     "output_type": "display_data"
    }
   ],
   "source": [
    "plt.plot(range(0,2000,100), loss_per_epoch, label='Training Loss')\n",
    "plt.title('Training Loss vs. Epoch')\n",
    "plt.xlabel('Epoch')\n",
    "plt.ylabel('Loss')\n",
    "plt.grid()\n",
    "plt.legend()\n",
    "plt.show()"
   ]
  },
  {
   "cell_type": "code",
   "execution_count": 28,
   "metadata": {},
   "outputs": [
    {
     "name": "stdout",
     "output_type": "stream",
     "text": [
      "Input Feature: tensor([-0.0526, -0.0584, -0.0561, -0.0421, -0.0412, -0.0356, -0.0430, -0.0466,\n",
      "        -0.0519, -0.0546, -0.0547, -0.0538, -0.0574, -0.0593, -0.0586, -0.0592,\n",
      "        -0.0666, -0.0679, -0.0635, -0.0617, -0.0585, -0.0600, -0.0546, -0.0647,\n",
      "        -0.0656, -0.0635, -0.0634, -0.0714, -0.0714, -0.0714, -0.0723, -0.0813,\n",
      "        -0.0698, -0.0799, -0.0785, -0.0957, -0.0932, -0.0801, -0.0546,  0.0619,\n",
      "         0.0581,  0.0573,  0.0574,  0.0568,  0.0577,  0.0576,  0.0575,  0.0544,\n",
      "         0.0543,  0.0615,  0.0629,  0.0601,  0.0559,  0.0546,  0.0492,  0.0456,\n",
      "         0.0461,  0.0468,  0.0469,  0.0475,  0.0467,  0.0479,  0.0489,  0.0483,\n",
      "         0.0442,  0.0411,  0.0414,  0.0432,  0.0444,  0.0454,  0.0451,  0.0481,\n",
      "         0.0478,  0.0488,  0.0515,  0.0542,  0.0581,  0.0587,  0.0600,  0.0035,\n",
      "         0.0067,  0.0019, -0.0083, -0.0092, -0.0146, -0.0197, -0.0230, -0.0305,\n",
      "        -0.0352, -0.0372, -0.0455, -0.0539, -0.0559, -0.0549, -0.0546, -0.0576,\n",
      "        -0.0623, -0.0604, -0.0573, -0.0570])\n",
      "Expected Value: tensor(2)\n",
      "Model Output: tensor([  3.5536, -16.7690,   3.6268, -32.2895])\n",
      "Model Prediction: tensor(2)\n"
     ]
    },
    {
     "name": "stderr",
     "output_type": "stream",
     "text": [
      "C:\\Users\\gsoch\\AppData\\Local\\Temp\\ipykernel_6960\\3084701899.py:3: UserWarning: To copy construct from a tensor, it is recommended to use sourceTensor.clone().detach() or sourceTensor.clone().detach().requires_grad_(True), rather than torch.tensor(sourceTensor).\n",
      "  predicted_value = model(torch.tensor(xs_test_min_max[0]).to(device))\n"
     ]
    }
   ],
   "source": [
    "model.eval()\n",
    "with torch.no_grad():\n",
    "    predicted_value = model(torch.tensor(xs_test_min_max[3]).to(device))\n",
    "print(\"Input Feature: \" + str(xs_test_min_max[3]))\n",
    "print(\"Expected Value: \" + str(ys_test[3]))\n",
    "print(\"Model Output: \" + str(predicted_value))\n",
    "print(\"Model Prediction: \" + str(torch.argmax(predicted_value)))"
   ]
  },
  {
   "cell_type": "code",
   "execution_count": 30,
   "metadata": {},
   "outputs": [],
   "source": [
    "torch.save(model.state_dict(), 'D:/Coding/Github/automatic_parking/vision_assisted_autonomous_parking/Pytorch/model/model_final.pth')"
   ]
  },
  {
   "cell_type": "code",
   "execution_count": 21,
   "metadata": {},
   "outputs": [
    {
     "data": {
      "text/plain": [
       "NeuralNetwork(\n",
       "  (fc1): Linear(in_features=10, out_features=120, bias=True)\n",
       "  (fc2): Linear(in_features=120, out_features=64, bias=True)\n",
       "  (fc3): Linear(in_features=64, out_features=3, bias=True)\n",
       ")"
      ]
     },
     "execution_count": 21,
     "metadata": {},
     "output_type": "execute_result"
    }
   ],
   "source": [
    "model = NeuralNetwork(len(xs_train_z_score[0]))\n",
    "model.load_state_dict(torch.load('datasets/model1.pth'))\n",
    "model.eval()"
   ]
  },
  {
   "cell_type": "code",
   "execution_count": 24,
   "metadata": {},
   "outputs": [
    {
     "name": "stdout",
     "output_type": "stream",
     "text": [
      "Input Feature: tensor([-1.0493, -1.2094, -1.3192, -1.3859, -1.0902, -1.0788, -1.5170, -1.0826,\n",
      "        -1.0960, -0.9731])\n",
      "Expected Value: tensor(1)\n",
      "Model Prediction: tensor(1)\n"
     ]
    },
    {
     "name": "stderr",
     "output_type": "stream",
     "text": [
      "C:\\Users\\gsoch\\AppData\\Local\\Temp\\ipykernel_7860\\1364314063.py:2: UserWarning: To copy construct from a tensor, it is recommended to use sourceTensor.clone().detach() or sourceTensor.clone().detach().requires_grad_(True), rather than torch.tensor(sourceTensor).\n",
      "  predicted_value = model(torch.tensor(xs_test[400]).to(device))\n"
     ]
    }
   ],
   "source": [
    "with torch.no_grad():\n",
    "    predicted_value = model(torch.tensor(xs_test[400]).to(device))\n",
    "print(\"Input Feature: \" + str(xs_test[400]))\n",
    "print(\"Expected Value: \" + str(ys_test[400]))\n",
    "print(\"Model Prediction: \" + str(torch.argmax(predicted_value)))"
   ]
  },
  {
   "cell_type": "markdown",
   "metadata": {},
   "source": [
    "AlexNET 1D for Lidar Applications"
   ]
  },
  {
   "cell_type": "code",
   "execution_count": 2,
   "metadata": {},
   "outputs": [],
   "source": [
    "import torch\n",
    "import torch.nn as nn\n",
    "import torch.nn.functional as F\n",
    "\n",
    "class AlexNet(nn.Module):\n",
    "    def __init__(self, num_classes=4):\n",
    "        super(AlexNet, self).__init__()\n",
    "        self.conv1 = nn.Conv1d(stride=2,in_channels=1,kernel_size=32)\n",
    "        self.conv2 = nn.Conv1d(in_channels=1,kernel_size=120, stride=1, padding=2)\n",
    "        self.conv3 = nn.Conv1d(in_channels=1,kernel_size=20, stride=1,padding=1)\n",
    "        self.conv4 = nn.Conv1d(in_channels=1,kernel_size=3, stride=1, padding=1)\n",
    "        self.conv5 = nn.Conv1d(in_channels=1,kernel_size=256, stride=1, padding=1)\n",
    "        self.fc1 = nn.Linear(4096, 4096)\n",
    "        self.fc2 = nn.Linear(4096, 4096)\n",
    "        self.fc3 = nn.Linear(4096, num_classes)\n",
    "\n",
    "    def forward(self, x):\n",
    "        x = F.relu(self.conv1(x))\n",
    "        x = F.max_pool1d(self.conv1(x),stride=2,kernel_size=1)\n",
    "        print(x.shape)\n",
    "        x = F.max_pool1d(self.conv2(x),stride=2,kernel_size=1)\n",
    "        print(x.shape)\n",
    "        x = F.relu(self.conv3(x))\n",
    "        print(x.shape)\n",
    "        x = F.relu(self.conv4(x))\n",
    "        print(x.shape)\n",
    "        x = F.max_pool1d(self.conv5(x),stride=2,kernel_size=1)\n",
    "        print(x.shape)\n",
    "        x = F.relu(self.fc1(x))\n",
    "        print(x.shape)\n",
    "        x = F.relu(self.fc2(x))\n",
    "        print(x.shape)\n",
    "        x = self.fc3(x)\n",
    "        return F.log_softmax(x, -1)\n",
    "\n"
   ]
  },
  {
   "cell_type": "code",
   "execution_count": 5,
   "metadata": {},
   "outputs": [],
   "source": [
    "data = pd.read_csv('D:/Coding/Github/automatic_parking/vision_assisted_autonomous_parking/datasets/dataset_completo.csv')\n",
    "x = data.iloc[:, :719].values.astype(dtype=np.float32)\n",
    "y = data.iloc[:, 720].values.astype(dtype=np.int64) \n",
    "feature_index = list(range(0,719))\n",
    "X_train, X_test, y_train, y_test = train_test_split(x, y, test_size=0.2, random_state=42)"
   ]
  },
  {
   "cell_type": "code",
   "execution_count": 6,
   "metadata": {},
   "outputs": [
    {
     "name": "stdout",
     "output_type": "stream",
     "text": [
      "You are using cpu\n"
     ]
    }
   ],
   "source": [
    "device = torch.device(\"cuda\" if torch.cuda.is_available() else \"cpu\")\n",
    "print(\"You are using\", device)\n",
    "\n",
    "xs_train = torch.tensor(X_train).view(-1, len(X_train[0])).to(device)\n",
    "ys_train = torch.tensor(y_train).to(device)\n",
    "xs_test = torch.tensor(X_test).view(-1, len(X_test)).to(device)\n",
    "ys_test = torch.tensor(y_test).to(device)"
   ]
  },
  {
   "cell_type": "code",
   "execution_count": 7,
   "metadata": {},
   "outputs": [],
   "source": [
    "max_value = 12        \n",
    "min_value = 0\n",
    "\n",
    "xs_train_min_max = (xs_train - min_value)/(max_value - min_value)\n",
    "xs_test_min_max = (xs_test - min_value)/(max_value - min_value)"
   ]
  },
  {
   "cell_type": "code",
   "execution_count": 8,
   "metadata": {},
   "outputs": [
    {
     "ename": "TypeError",
     "evalue": "Conv1d.__init__() missing 1 required positional argument: 'out_channels'",
     "output_type": "error",
     "traceback": [
      "\u001b[1;31m---------------------------------------------------------------------------\u001b[0m",
      "\u001b[1;31mTypeError\u001b[0m                                 Traceback (most recent call last)",
      "Cell \u001b[1;32mIn[8], line 6\u001b[0m\n\u001b[0;32m      3\u001b[0m dataloader \u001b[38;5;241m=\u001b[39m DataLoader(dataset, batch_size\u001b[38;5;241m=\u001b[39mbatch_size, shuffle\u001b[38;5;241m=\u001b[39m\u001b[38;5;28;01mTrue\u001b[39;00m)\n\u001b[0;32m      5\u001b[0m \u001b[38;5;66;03m# Initialize the model, loss function, and optimizer\u001b[39;00m\n\u001b[1;32m----> 6\u001b[0m model \u001b[38;5;241m=\u001b[39m \u001b[43mAlexNet\u001b[49m\u001b[43m(\u001b[49m\u001b[43mnum_classes\u001b[49m\u001b[38;5;241;43m=\u001b[39;49m\u001b[38;5;241;43m4\u001b[39;49m\u001b[43m)\u001b[49m  \u001b[38;5;66;03m# Adjust based on your model and dataset\u001b[39;00m\n\u001b[0;32m      7\u001b[0m model\u001b[38;5;241m.\u001b[39mto(device)\n\u001b[0;32m      8\u001b[0m criterion \u001b[38;5;241m=\u001b[39m nn\u001b[38;5;241m.\u001b[39mNLLLoss()  \u001b[38;5;66;03m# Negative log likelihood loss since we used log_softmax in the model\u001b[39;00m\n",
      "Cell \u001b[1;32mIn[2], line 8\u001b[0m, in \u001b[0;36mAlexNet.__init__\u001b[1;34m(self, num_classes)\u001b[0m\n\u001b[0;32m      6\u001b[0m \u001b[38;5;28;01mdef\u001b[39;00m \u001b[38;5;21m__init__\u001b[39m(\u001b[38;5;28mself\u001b[39m, num_classes\u001b[38;5;241m=\u001b[39m\u001b[38;5;241m4\u001b[39m):\n\u001b[0;32m      7\u001b[0m     \u001b[38;5;28msuper\u001b[39m(AlexNet, \u001b[38;5;28mself\u001b[39m)\u001b[38;5;241m.\u001b[39m\u001b[38;5;21m__init__\u001b[39m()\n\u001b[1;32m----> 8\u001b[0m     \u001b[38;5;28mself\u001b[39m\u001b[38;5;241m.\u001b[39mconv1 \u001b[38;5;241m=\u001b[39m \u001b[43mnn\u001b[49m\u001b[38;5;241;43m.\u001b[39;49m\u001b[43mConv1d\u001b[49m\u001b[43m(\u001b[49m\u001b[43mstride\u001b[49m\u001b[38;5;241;43m=\u001b[39;49m\u001b[38;5;241;43m2\u001b[39;49m\u001b[43m,\u001b[49m\u001b[43min_channels\u001b[49m\u001b[38;5;241;43m=\u001b[39;49m\u001b[38;5;241;43m1\u001b[39;49m\u001b[43m,\u001b[49m\u001b[43mkernel_size\u001b[49m\u001b[38;5;241;43m=\u001b[39;49m\u001b[38;5;241;43m32\u001b[39;49m\u001b[43m)\u001b[49m\n\u001b[0;32m      9\u001b[0m     \u001b[38;5;28mself\u001b[39m\u001b[38;5;241m.\u001b[39mconv2 \u001b[38;5;241m=\u001b[39m nn\u001b[38;5;241m.\u001b[39mConv1d(in_channels\u001b[38;5;241m=\u001b[39m\u001b[38;5;241m1\u001b[39m,kernel_size\u001b[38;5;241m=\u001b[39m\u001b[38;5;241m120\u001b[39m, stride\u001b[38;5;241m=\u001b[39m\u001b[38;5;241m1\u001b[39m, padding\u001b[38;5;241m=\u001b[39m\u001b[38;5;241m2\u001b[39m)\n\u001b[0;32m     10\u001b[0m     \u001b[38;5;28mself\u001b[39m\u001b[38;5;241m.\u001b[39mconv3 \u001b[38;5;241m=\u001b[39m nn\u001b[38;5;241m.\u001b[39mConv1d(in_channels\u001b[38;5;241m=\u001b[39m\u001b[38;5;241m1\u001b[39m,kernel_size\u001b[38;5;241m=\u001b[39m\u001b[38;5;241m20\u001b[39m, stride\u001b[38;5;241m=\u001b[39m\u001b[38;5;241m1\u001b[39m,padding\u001b[38;5;241m=\u001b[39m\u001b[38;5;241m1\u001b[39m)\n",
      "\u001b[1;31mTypeError\u001b[0m: Conv1d.__init__() missing 1 required positional argument: 'out_channels'"
     ]
    }
   ],
   "source": [
    "\n",
    "dataset = TensorDataset(xs_train.unsqueeze(1), ys_train)\n",
    "batch_size = 32\n",
    "dataloader = DataLoader(dataset, batch_size=batch_size, shuffle=True)\n",
    "\n",
    "# Initialize the model, loss function, and optimizer\n",
    "model = AlexNet(num_classes=4)  # Adjust based on your model and dataset\n",
    "model.to(device)\n",
    "criterion = nn.NLLLoss()  # Negative log likelihood loss since we used log_softmax in the model\n",
    "optimizer = optim.Adam(model.parameters(), lr=0.001)  # Adam optimizer with learning rate 0.001\n"
   ]
  },
  {
   "cell_type": "code",
   "execution_count": 63,
   "metadata": {},
   "outputs": [
    {
     "name": "stdout",
     "output_type": "stream",
     "text": [
      "torch.Size([32, 1, 150])\n",
      "torch.Size([32, 1, 18])\n",
      "torch.Size([32, 1, 1])\n",
      "torch.Size([32, 1, 1])\n",
      "torch.Size([32, 1, 1])\n"
     ]
    },
    {
     "ename": "RuntimeError",
     "evalue": "mat1 and mat2 shapes cannot be multiplied (32x1 and 4096x4096)",
     "output_type": "error",
     "traceback": [
      "\u001b[1;31m---------------------------------------------------------------------------\u001b[0m",
      "\u001b[1;31mRuntimeError\u001b[0m                              Traceback (most recent call last)",
      "Cell \u001b[1;32mIn[63], line 13\u001b[0m\n\u001b[0;32m     10\u001b[0m optimizer\u001b[38;5;241m.\u001b[39mzero_grad()\n\u001b[0;32m     12\u001b[0m \u001b[38;5;66;03m# Forward pass\u001b[39;00m\n\u001b[1;32m---> 13\u001b[0m outputs \u001b[38;5;241m=\u001b[39m \u001b[43mmodel\u001b[49m\u001b[43m(\u001b[49m\u001b[43minputs\u001b[49m\u001b[43m)\u001b[49m\n\u001b[0;32m     14\u001b[0m loss \u001b[38;5;241m=\u001b[39m criterion(outputs, labels)\n\u001b[0;32m     16\u001b[0m \u001b[38;5;66;03m# Backward pass and optimization\u001b[39;00m\n",
      "File \u001b[1;32mc:\\Users\\gsoch\\AppData\\Local\\Programs\\Python\\Python310\\lib\\site-packages\\torch\\nn\\modules\\module.py:1511\u001b[0m, in \u001b[0;36mModule._wrapped_call_impl\u001b[1;34m(self, *args, **kwargs)\u001b[0m\n\u001b[0;32m   1509\u001b[0m     \u001b[38;5;28;01mreturn\u001b[39;00m \u001b[38;5;28mself\u001b[39m\u001b[38;5;241m.\u001b[39m_compiled_call_impl(\u001b[38;5;241m*\u001b[39margs, \u001b[38;5;241m*\u001b[39m\u001b[38;5;241m*\u001b[39mkwargs)  \u001b[38;5;66;03m# type: ignore[misc]\u001b[39;00m\n\u001b[0;32m   1510\u001b[0m \u001b[38;5;28;01melse\u001b[39;00m:\n\u001b[1;32m-> 1511\u001b[0m     \u001b[38;5;28;01mreturn\u001b[39;00m \u001b[38;5;28mself\u001b[39m\u001b[38;5;241m.\u001b[39m_call_impl(\u001b[38;5;241m*\u001b[39margs, \u001b[38;5;241m*\u001b[39m\u001b[38;5;241m*\u001b[39mkwargs)\n",
      "File \u001b[1;32mc:\\Users\\gsoch\\AppData\\Local\\Programs\\Python\\Python310\\lib\\site-packages\\torch\\nn\\modules\\module.py:1520\u001b[0m, in \u001b[0;36mModule._call_impl\u001b[1;34m(self, *args, **kwargs)\u001b[0m\n\u001b[0;32m   1515\u001b[0m \u001b[38;5;66;03m# If we don't have any hooks, we want to skip the rest of the logic in\u001b[39;00m\n\u001b[0;32m   1516\u001b[0m \u001b[38;5;66;03m# this function, and just call forward.\u001b[39;00m\n\u001b[0;32m   1517\u001b[0m \u001b[38;5;28;01mif\u001b[39;00m \u001b[38;5;129;01mnot\u001b[39;00m (\u001b[38;5;28mself\u001b[39m\u001b[38;5;241m.\u001b[39m_backward_hooks \u001b[38;5;129;01mor\u001b[39;00m \u001b[38;5;28mself\u001b[39m\u001b[38;5;241m.\u001b[39m_backward_pre_hooks \u001b[38;5;129;01mor\u001b[39;00m \u001b[38;5;28mself\u001b[39m\u001b[38;5;241m.\u001b[39m_forward_hooks \u001b[38;5;129;01mor\u001b[39;00m \u001b[38;5;28mself\u001b[39m\u001b[38;5;241m.\u001b[39m_forward_pre_hooks\n\u001b[0;32m   1518\u001b[0m         \u001b[38;5;129;01mor\u001b[39;00m _global_backward_pre_hooks \u001b[38;5;129;01mor\u001b[39;00m _global_backward_hooks\n\u001b[0;32m   1519\u001b[0m         \u001b[38;5;129;01mor\u001b[39;00m _global_forward_hooks \u001b[38;5;129;01mor\u001b[39;00m _global_forward_pre_hooks):\n\u001b[1;32m-> 1520\u001b[0m     \u001b[38;5;28;01mreturn\u001b[39;00m forward_call(\u001b[38;5;241m*\u001b[39margs, \u001b[38;5;241m*\u001b[39m\u001b[38;5;241m*\u001b[39mkwargs)\n\u001b[0;32m   1522\u001b[0m \u001b[38;5;28;01mtry\u001b[39;00m:\n\u001b[0;32m   1523\u001b[0m     result \u001b[38;5;241m=\u001b[39m \u001b[38;5;28;01mNone\u001b[39;00m\n",
      "Cell \u001b[1;32mIn[61], line 28\u001b[0m, in \u001b[0;36mAlexNet.forward\u001b[1;34m(self, x)\u001b[0m\n\u001b[0;32m     26\u001b[0m x \u001b[38;5;241m=\u001b[39m F\u001b[38;5;241m.\u001b[39mmax_pool1d(\u001b[38;5;28mself\u001b[39m\u001b[38;5;241m.\u001b[39mconv5(x),stride\u001b[38;5;241m=\u001b[39m\u001b[38;5;241m2\u001b[39m,kernel_size\u001b[38;5;241m=\u001b[39m\u001b[38;5;241m1\u001b[39m)\n\u001b[0;32m     27\u001b[0m \u001b[38;5;28mprint\u001b[39m(x\u001b[38;5;241m.\u001b[39mshape)\n\u001b[1;32m---> 28\u001b[0m x \u001b[38;5;241m=\u001b[39m F\u001b[38;5;241m.\u001b[39mrelu(\u001b[38;5;28;43mself\u001b[39;49m\u001b[38;5;241;43m.\u001b[39;49m\u001b[43mfc1\u001b[49m\u001b[43m(\u001b[49m\u001b[43mx\u001b[49m\u001b[43m)\u001b[49m)\n\u001b[0;32m     29\u001b[0m \u001b[38;5;28mprint\u001b[39m(x\u001b[38;5;241m.\u001b[39mshape)\n\u001b[0;32m     30\u001b[0m x \u001b[38;5;241m=\u001b[39m F\u001b[38;5;241m.\u001b[39mrelu(\u001b[38;5;28mself\u001b[39m\u001b[38;5;241m.\u001b[39mfc2(x))\n",
      "File \u001b[1;32mc:\\Users\\gsoch\\AppData\\Local\\Programs\\Python\\Python310\\lib\\site-packages\\torch\\nn\\modules\\module.py:1511\u001b[0m, in \u001b[0;36mModule._wrapped_call_impl\u001b[1;34m(self, *args, **kwargs)\u001b[0m\n\u001b[0;32m   1509\u001b[0m     \u001b[38;5;28;01mreturn\u001b[39;00m \u001b[38;5;28mself\u001b[39m\u001b[38;5;241m.\u001b[39m_compiled_call_impl(\u001b[38;5;241m*\u001b[39margs, \u001b[38;5;241m*\u001b[39m\u001b[38;5;241m*\u001b[39mkwargs)  \u001b[38;5;66;03m# type: ignore[misc]\u001b[39;00m\n\u001b[0;32m   1510\u001b[0m \u001b[38;5;28;01melse\u001b[39;00m:\n\u001b[1;32m-> 1511\u001b[0m     \u001b[38;5;28;01mreturn\u001b[39;00m \u001b[38;5;28mself\u001b[39m\u001b[38;5;241m.\u001b[39m_call_impl(\u001b[38;5;241m*\u001b[39margs, \u001b[38;5;241m*\u001b[39m\u001b[38;5;241m*\u001b[39mkwargs)\n",
      "File \u001b[1;32mc:\\Users\\gsoch\\AppData\\Local\\Programs\\Python\\Python310\\lib\\site-packages\\torch\\nn\\modules\\module.py:1520\u001b[0m, in \u001b[0;36mModule._call_impl\u001b[1;34m(self, *args, **kwargs)\u001b[0m\n\u001b[0;32m   1515\u001b[0m \u001b[38;5;66;03m# If we don't have any hooks, we want to skip the rest of the logic in\u001b[39;00m\n\u001b[0;32m   1516\u001b[0m \u001b[38;5;66;03m# this function, and just call forward.\u001b[39;00m\n\u001b[0;32m   1517\u001b[0m \u001b[38;5;28;01mif\u001b[39;00m \u001b[38;5;129;01mnot\u001b[39;00m (\u001b[38;5;28mself\u001b[39m\u001b[38;5;241m.\u001b[39m_backward_hooks \u001b[38;5;129;01mor\u001b[39;00m \u001b[38;5;28mself\u001b[39m\u001b[38;5;241m.\u001b[39m_backward_pre_hooks \u001b[38;5;129;01mor\u001b[39;00m \u001b[38;5;28mself\u001b[39m\u001b[38;5;241m.\u001b[39m_forward_hooks \u001b[38;5;129;01mor\u001b[39;00m \u001b[38;5;28mself\u001b[39m\u001b[38;5;241m.\u001b[39m_forward_pre_hooks\n\u001b[0;32m   1518\u001b[0m         \u001b[38;5;129;01mor\u001b[39;00m _global_backward_pre_hooks \u001b[38;5;129;01mor\u001b[39;00m _global_backward_hooks\n\u001b[0;32m   1519\u001b[0m         \u001b[38;5;129;01mor\u001b[39;00m _global_forward_hooks \u001b[38;5;129;01mor\u001b[39;00m _global_forward_pre_hooks):\n\u001b[1;32m-> 1520\u001b[0m     \u001b[38;5;28;01mreturn\u001b[39;00m forward_call(\u001b[38;5;241m*\u001b[39margs, \u001b[38;5;241m*\u001b[39m\u001b[38;5;241m*\u001b[39mkwargs)\n\u001b[0;32m   1522\u001b[0m \u001b[38;5;28;01mtry\u001b[39;00m:\n\u001b[0;32m   1523\u001b[0m     result \u001b[38;5;241m=\u001b[39m \u001b[38;5;28;01mNone\u001b[39;00m\n",
      "File \u001b[1;32mc:\\Users\\gsoch\\AppData\\Local\\Programs\\Python\\Python310\\lib\\site-packages\\torch\\nn\\modules\\linear.py:116\u001b[0m, in \u001b[0;36mLinear.forward\u001b[1;34m(self, input)\u001b[0m\n\u001b[0;32m    115\u001b[0m \u001b[38;5;28;01mdef\u001b[39;00m \u001b[38;5;21mforward\u001b[39m(\u001b[38;5;28mself\u001b[39m, \u001b[38;5;28minput\u001b[39m: Tensor) \u001b[38;5;241m-\u001b[39m\u001b[38;5;241m>\u001b[39m Tensor:\n\u001b[1;32m--> 116\u001b[0m     \u001b[38;5;28;01mreturn\u001b[39;00m \u001b[43mF\u001b[49m\u001b[38;5;241;43m.\u001b[39;49m\u001b[43mlinear\u001b[49m\u001b[43m(\u001b[49m\u001b[38;5;28;43minput\u001b[39;49m\u001b[43m,\u001b[49m\u001b[43m \u001b[49m\u001b[38;5;28;43mself\u001b[39;49m\u001b[38;5;241;43m.\u001b[39;49m\u001b[43mweight\u001b[49m\u001b[43m,\u001b[49m\u001b[43m \u001b[49m\u001b[38;5;28;43mself\u001b[39;49m\u001b[38;5;241;43m.\u001b[39;49m\u001b[43mbias\u001b[49m\u001b[43m)\u001b[49m\n",
      "\u001b[1;31mRuntimeError\u001b[0m: mat1 and mat2 shapes cannot be multiplied (32x1 and 4096x4096)"
     ]
    }
   ],
   "source": [
    "# Training loop\n",
    "num_epochs = 10\n",
    "for epoch in range(num_epochs):\n",
    "    running_loss = 0.0\n",
    "    correct = 0\n",
    "    total = 0\n",
    "    for i, data in enumerate(dataloader, 0):\n",
    "        inputs, labels = data\n",
    "\n",
    "        optimizer.zero_grad()\n",
    "\n",
    "        # Forward pass\n",
    "        outputs = model(inputs)\n",
    "        loss = criterion(outputs, labels)\n",
    "\n",
    "        # Backward pass and optimization\n",
    "        loss.backward()\n",
    "        optimizer.step()\n",
    "\n",
    "        running_loss += loss.item()\n",
    "        \n",
    "        # Calculate accuracy\n",
    "        _, predicted = torch.max(outputs.data, 1)\n",
    "        total += labels.size(0)\n",
    "        correct += (predicted == labels).sum().item()\n",
    "\n",
    "        if i % 10 == 9:  # Print every 10 mini-batches\n",
    "            print('[%d, %5d] loss: %.3f accuracy: %.2f %%' %\n",
    "                  (epoch + 1, i + 1, running_loss / 10, 100 * correct / total))\n",
    "            running_loss = 0.0\n",
    "\n",
    "print('Finished Training')"
   ]
  },
  {
   "cell_type": "code",
   "execution_count": null,
   "metadata": {},
   "outputs": [],
   "source": []
  }
 ],
 "metadata": {
  "kernelspec": {
   "display_name": "Python 3",
   "language": "python",
   "name": "python3"
  },
  "language_info": {
   "codemirror_mode": {
    "name": "ipython",
    "version": 3
   },
   "file_extension": ".py",
   "mimetype": "text/x-python",
   "name": "python",
   "nbconvert_exporter": "python",
   "pygments_lexer": "ipython3",
   "version": "3.10.11"
  }
 },
 "nbformat": 4,
 "nbformat_minor": 2
}
